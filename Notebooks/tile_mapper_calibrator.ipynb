{
 "cells": [
  {
   "cell_type": "code",
   "id": "initial_id",
   "metadata": {
    "collapsed": true,
    "ExecuteTime": {
     "end_time": "2025-04-09T22:11:31.312372Z",
     "start_time": "2025-04-09T22:11:23.187602Z"
    }
   },
   "source": [
    "from easyocr.imgproc import cvt2HeatmapImg\n",
    "\n",
    "from scouter_agent.utilities.tile_geometry_calibrator import calibrate_tile_geometry\n",
    "from scouter_agent.utilities.tile_mapper import TileMapper\n",
    "from scouter_agent.utilities.tile_overlay_debug import draw_tile_grid"
   ],
   "outputs": [],
   "execution_count": 1
  },
  {
   "metadata": {
    "ExecuteTime": {
     "end_time": "2025-04-09T22:11:19.679864600Z",
     "start_time": "2025-04-09T06:25:29.236997Z"
    }
   },
   "cell_type": "code",
   "source": "import cv2",
   "id": "78c341afa2bb4be",
   "outputs": [],
   "execution_count": 3
  },
  {
   "metadata": {
    "ExecuteTime": {
     "end_time": "2025-04-09T22:11:19.683473200Z",
     "start_time": "2025-04-09T06:25:29.248335Z"
    }
   },
   "cell_type": "code",
   "source": [
    "image_path = \"\"\"C:\\\\Users\\\\JM\\Documents\\\\JM-codeworld\\\\LSS_automation\\\\scouter_agent\\\\temp\\\\screen_0_0.png\"\"\"\n",
    "image = cv2.imread(image_path)\n"
   ],
   "id": "26aaf233f032232",
   "outputs": [],
   "execution_count": 4
  },
  {
   "metadata": {
    "ExecuteTime": {
     "end_time": "2025-04-09T22:11:19.653038600Z",
     "start_time": "2025-04-09T06:38:05.397050Z"
    }
   },
   "cell_type": "code",
   "source": [
    "calibration = calibrate_tile_geometry(image_path)\n",
    "mapper =TileMapper(\n",
    "    calibration[\"tile_width\"],\n",
    "    calibration[\"tile_height\"],\n",
    "    calibration[\"origin\"]\n",
    ")\n",
    "draw_tile_grid(image_path, mapper, grid_size=(20, 20))"
   ],
   "id": "fec7adf276bb4fb2",
   "outputs": [
    {
     "name": "stdout",
     "output_type": "stream",
     "text": [
      "Click the four corners of one tile in this order: E, N, W, S\n",
      "Tile Width: 200.06249023742558\n",
      "Tile Height: 98.0\n",
      "Origin Offset: (371, 607)\n"
     ]
    }
   ],
   "execution_count": null
  },
  {
   "metadata": {},
   "cell_type": "code",
   "outputs": [],
   "execution_count": null,
   "source": "",
   "id": "8971a36c2f5f7534"
  },
  {
   "metadata": {},
   "cell_type": "code",
   "outputs": [],
   "execution_count": null,
   "source": "",
   "id": "64f5f6f5024771a"
  }
 ],
 "metadata": {
  "kernelspec": {
   "display_name": "Python 3",
   "language": "python",
   "name": "python3"
  },
  "language_info": {
   "codemirror_mode": {
    "name": "ipython",
    "version": 2
   },
   "file_extension": ".py",
   "mimetype": "text/x-python",
   "name": "python",
   "nbconvert_exporter": "python",
   "pygments_lexer": "ipython2",
   "version": "2.7.6"
  }
 },
 "nbformat": 4,
 "nbformat_minor": 5
}
